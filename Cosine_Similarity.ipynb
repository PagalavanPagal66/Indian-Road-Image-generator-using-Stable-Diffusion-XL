{
 "cells": [
  {
   "cell_type": "code",
   "execution_count": null,
   "id": "9331fdbb",
   "metadata": {},
   "outputs": [],
   "source": [
    "import numpy as np\n",
    "import pandas as pd\n",
    "import os\n",
    "from collections import Counter\n",
    "\n",
    "images_path = os.listdir('E:\\\\resize\\\\')\n",
    "embedding_df = pd.read_csv(r'C:\\Users\\pagal\\PycharmProjects\\TEXT\\Minus_1_Hack\\Embeddings.csv')\n",
    "from sklearn.metrics.pairwise import cosine_distances,pairwise_distances,cosine_similarity\n",
    "cosine_similarity_df = pd.DataFrame(cosine_similarity(embedding_df.drop('image',axis=1)))\n",
    "\n",
    "total_str = \"\"\n",
    "with open(r\"C:\\Users\\pagal\\PycharmProjects\\TEXT\\Minus_1_Hack\\Tags_File.txt\",\"r\")as f:\n",
    "    total_str+=str(f.read())\n",
    "string_split = total_str.split('*')\n",
    "temp_list=[]\n",
    "total_list=[]\n",
    "search_term = \"\\n\"\n",
    "for iter in string_split:\n",
    "    if(iter==''):\n",
    "       continue\n",
    "    index = iter.find(search_term)\n",
    "    if index != -1:\n",
    "        temp_list.append(iter[0:-1])\n",
    "        total_list.append(temp_list)\n",
    "        temp_list=[]\n",
    "    else:\n",
    "        temp_list.append(iter)\n",
    "print(temp_list)\n",
    "def fetch_most_similar_products(image_name,n_similar=5):\n",
    "    curr_index = embedding_df[embedding_df['image']==image_name].index[0]\n",
    "    closest_image = pd.DataFrame(cosine_similarity_df.iloc[curr_index].nlargest(n_similar+1)[1:])\n",
    "    total_tags = dict()\n",
    "    for index,imgs in closest_image.iterrows():\n",
    "        similar_image_name = embedding_df.iloc[index]['image']\n",
    "        similarity = np.round(imgs.iloc[0],3)\n",
    "        current_tags = total_list[int(list(str(similar_image_name).split('_'))[-1])]\n",
    "        print(current_tags)\n",
    "        for iter in current_tags:\n",
    "            if iter in total_tags:\n",
    "                total_tags[str(iter)]+=1\n",
    "            else:\n",
    "                total_tags[str(iter)]=1\n",
    "    value_counts = Counter(total_tags.values())\n",
    "    total_tags = dict(sorted(total_tags.items(), key=lambda item: value_counts[item[1]], reverse=False))\n",
    "    print(total_tags)\n",
    "    return_value = \"\"\n",
    "    for key, value in total_tags.items():\n",
    "        return_value += str(key)+\" \"\n",
    "    print(return_value)\n",
    "    return return_value\n",
    "\n",
    "image_name = \"sample_image_10\"\n",
    "print(fetch_most_similar_products(image_name))\n",
    "\n"
   ]
  }
 ],
 "metadata": {
  "kernelspec": {
   "display_name": "Python 3 (ipykernel)",
   "language": "python",
   "name": "python3"
  },
  "language_info": {
   "codemirror_mode": {
    "name": "ipython",
    "version": 3
   },
   "file_extension": ".py",
   "mimetype": "text/x-python",
   "name": "python",
   "nbconvert_exporter": "python",
   "pygments_lexer": "ipython3",
   "version": "3.10.9"
  }
 },
 "nbformat": 4,
 "nbformat_minor": 5
}
